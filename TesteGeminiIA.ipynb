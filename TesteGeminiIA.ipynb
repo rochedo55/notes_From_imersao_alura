{
  "nbformat": 4,
  "nbformat_minor": 0,
  "metadata": {
    "colab": {
      "provenance": [],
      "authorship_tag": "ABX9TyMae9bhziMu2yzlWguAd+jg",
      "include_colab_link": true
    },
    "kernelspec": {
      "name": "python3",
      "display_name": "Python 3"
    },
    "language_info": {
      "name": "python"
    }
  },
  "cells": [
    {
      "cell_type": "markdown",
      "metadata": {
        "id": "view-in-github",
        "colab_type": "text"
      },
      "source": [
        "<a href=\"https://colab.research.google.com/github/rochedo55/notes_From_imersao_alura/blob/main/TesteGeminiIA.ipynb\" target=\"_parent\"><img src=\"https://colab.research.google.com/assets/colab-badge.svg\" alt=\"Open In Colab\"/></a>"
      ]
    },
    {
      "cell_type": "markdown",
      "source": [
        "Instalando modulos necessarios"
      ],
      "metadata": {
        "id": "5oy_3MbsSGxK"
      }
    },
    {
      "cell_type": "code",
      "execution_count": 2,
      "metadata": {
        "id": "48C6CtceSAHE"
      },
      "outputs": [],
      "source": [
        "pip install -q -U google-generativeai"
      ]
    },
    {
      "cell_type": "code",
      "source": [
        "import google.generativeai as genai\n",
        "from google.colab import userdata\n",
        "api_key = userdata.get('SECRET_KEY')\n",
        "genai.configure(api_key=api_key)\n",
        "\n",
        "model = genai.GenerativeModel(model_name='gemini-1.0-pro')\n",
        "response = model.generate_content('Qual versão esta do gemini esta disponivel para uso no colab?')\n",
        "\n",
        "print(response.text)"
      ],
      "metadata": {
        "colab": {
          "base_uri": "https://localhost:8080/",
          "height": 34
        },
        "id": "afKcrQE1S2MZ",
        "outputId": "838916e3-0587-494c-c452-a1fdffac560a"
      },
      "execution_count": 19,
      "outputs": [
        {
          "output_type": "stream",
          "name": "stdout",
          "text": [
            "Gemini v0.3.0\n"
          ]
        }
      ]
    },
    {
      "cell_type": "code",
      "source": [
        "res = model.count_tokens('Qual versão esta do gemini esta disponivel para uso no colab?')\n",
        "print(res)"
      ],
      "metadata": {
        "colab": {
          "base_uri": "https://localhost:8080/",
          "height": 52
        },
        "id": "lr4vX9hcTa9P",
        "outputId": "9c86b140-ebc2-4ac3-9ee4-29450f18eaee"
      },
      "execution_count": 6,
      "outputs": [
        {
          "output_type": "stream",
          "name": "stdout",
          "text": [
            "total_tokens: 14\n",
            "\n"
          ]
        }
      ]
    },
    {
      "cell_type": "markdown",
      "source": [
        "Listar modelos disponiveis"
      ],
      "metadata": {
        "id": "7mmKilVBVC4R"
      }
    },
    {
      "cell_type": "code",
      "source": [
        "for m in genai.list_models():\n",
        "  if 'generateContent' in m.supported_generation_methods:\n",
        "    print(m.name)\n"
      ],
      "metadata": {
        "colab": {
          "base_uri": "https://localhost:8080/",
          "height": 139
        },
        "id": "ljhi0V3NT3tu",
        "outputId": "51f0f125-e7b8-4a1c-c0d2-6e70d78f4723"
      },
      "execution_count": 9,
      "outputs": [
        {
          "output_type": "stream",
          "name": "stdout",
          "text": [
            "models/gemini-1.0-pro\n",
            "models/gemini-1.0-pro-001\n",
            "models/gemini-1.0-pro-latest\n",
            "models/gemini-1.0-pro-vision-latest\n",
            "models/gemini-1.5-pro-latest\n",
            "models/gemini-pro\n",
            "models/gemini-pro-vision\n"
          ]
        }
      ]
    },
    {
      "cell_type": "code",
      "source": [
        "response = model.generate_content('Qual modelo do gemini esta sendo usada agora? (pro ou pro vision)')\n",
        "\n",
        "print(response.text)"
      ],
      "metadata": {
        "colab": {
          "base_uri": "https://localhost:8080/",
          "height": 34
        },
        "id": "3M7qK2b6UmY6",
        "outputId": "eec7073e-7d88-4c91-8a80-332ce0419ec4"
      },
      "execution_count": 13,
      "outputs": [
        {
          "output_type": "stream",
          "name": "stdout",
          "text": [
            "Gemini Pro Vision\n"
          ]
        }
      ]
    },
    {
      "cell_type": "markdown",
      "source": [
        "Usando parametros disponiveis no gemini"
      ],
      "metadata": {
        "id": "deAFklLyVzgR"
      }
    },
    {
      "cell_type": "code",
      "source": [
        "generation_config = {\n",
        "    \"candidate_count\": 1,\n",
        "    \"temperature\": 0.9\n",
        "    }\n",
        "    #    \"top_p\":1, \"top_k\":3\n",
        "safety_settings = {\n",
        "    \"SEXUAL\": \"BLOCK_NONE\",\n",
        "    \"HATE\":\"BLOCK_NONE\"\n",
        "}"
      ],
      "metadata": {
        "id": "LTE7eKuoV5yb"
      },
      "execution_count": 14,
      "outputs": []
    },
    {
      "cell_type": "code",
      "source": [
        "newModel = genai.GenerativeModel(model_name=\"gemini-1.0-pro\",generation_config=generation_config,safety_settings=safety_settings)"
      ],
      "metadata": {
        "id": "C2FlvSCzXtUm"
      },
      "execution_count": 20,
      "outputs": []
    },
    {
      "cell_type": "code",
      "source": [
        "chat = newModel.start_chat(history=[])"
      ],
      "metadata": {
        "id": "UuIjJUUQYRGw"
      },
      "execution_count": 21,
      "outputs": []
    },
    {
      "cell_type": "code",
      "source": [
        "prompt = input(\"esperando prompt:\")\n",
        "while (prompt != \"fim\"):\n",
        "  response = chat.send_message(prompt)\n",
        "  print(\"resposta:\",response.text,\"\\n\")\n",
        "  prompt = input(\"esperando prompt:\")\n",
        "print(\"historico possui de mensagens:\",len(chat.history))\n"
      ],
      "metadata": {
        "colab": {
          "base_uri": "https://localhost:8080/",
          "height": 263
        },
        "id": "1c3JKNA8ZNfa",
        "outputId": "7ebcaef2-035c-4284-9b3b-9f17ffbe6190"
      },
      "execution_count": 23,
      "outputs": [
        {
          "output_type": "stream",
          "name": "stdout",
          "text": [
            "esperando prompt:qual foi a minha frase anterior\n",
            "resposta: Você ainda não disse nenhuma frase, então não tenho nenhuma frase anterior para fornecer.\n",
            "esperando prompt:qual o livro do john green que tem haver com tartarugas\n",
            "historico possui de mensagens: 6\n",
            "resposta: Tartarugas Até Lá Embaixo\n",
            "esperando prompt:tem um filme sobre esse livro?\n",
            "historico possui de mensagens: 8\n",
            "resposta: Sim, há um filme baseado no livro \"Tartarugas Até Lá Embaixo\" de John Green. O filme foi lançado em 2012 e é estrelado por Shailene Woodley e Ansel Elgort.\n",
            "esperando prompt:qual a nota do filme no imdb\n",
            "historico possui de mensagens: 10\n",
            "resposta: 7,8/10\n",
            "esperando prompt:fim\n",
            "historico possui de mensagens: 12\n"
          ]
        }
      ]
    }
  ]
}